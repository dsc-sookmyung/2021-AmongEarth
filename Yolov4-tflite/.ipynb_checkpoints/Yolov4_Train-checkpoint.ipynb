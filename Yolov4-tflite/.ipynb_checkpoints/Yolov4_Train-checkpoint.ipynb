{
 "cells": [
  {
   "cell_type": "code",
   "execution_count": null,
   "metadata": {
    "colab": {
     "base_uri": "https://localhost:8080/"
    },
    "executionInfo": {
     "elapsed": 182216,
     "status": "ok",
     "timestamp": 1612502209300,
     "user": {
      "displayName": "이지아",
      "photoUrl": "https://lh3.googleusercontent.com/a-/AOh14GhApjPjZPyps3qffdLNd42EdqXMJdqTCBSOmmF5=s64",
      "userId": "10796608722670429081"
     },
     "user_tz": -540
    },
    "id": "jFQD7FdkCkuP",
    "outputId": "784bf0bc-38cb-4a1d-b833-610b6bb5f76f"
   },
   "outputs": [],
   "source": [
    "from google.colab import drive\n",
    "drive.mount('/content/gdrive')   "
   ]
  },
  {
   "cell_type": "code",
   "execution_count": null,
   "metadata": {
    "colab": {
     "base_uri": "https://localhost:8080/"
    },
    "executionInfo": {
     "elapsed": 3248,
     "status": "ok",
     "timestamp": 1612502216037,
     "user": {
      "displayName": "이지아",
      "photoUrl": "https://lh3.googleusercontent.com/a-/AOh14GhApjPjZPyps3qffdLNd42EdqXMJdqTCBSOmmF5=s64",
      "userId": "10796608722670429081"
     },
     "user_tz": -540
    },
    "id": "B5LgPm48Cu09",
    "outputId": "d7572aff-4d55-4a87-add2-91937e0af0b9"
   },
   "outputs": [],
   "source": [
    "#clone darknet repo \n",
    "!git clone https://github.com/AlexeyAB/darknet"
   ]
  },
  {
   "cell_type": "code",
   "execution_count": null,
   "metadata": {
    "colab": {
     "base_uri": "https://localhost:8080/"
    },
    "executionInfo": {
     "elapsed": 2975,
     "status": "ok",
     "timestamp": 1612502216357,
     "user": {
      "displayName": "이지아",
      "photoUrl": "https://lh3.googleusercontent.com/a-/AOh14GhApjPjZPyps3qffdLNd42EdqXMJdqTCBSOmmF5=s64",
      "userId": "10796608722670429081"
     },
     "user_tz": -540
    },
    "id": "TVy86FIMCu47",
    "outputId": "9a093bda-8834-47d9-a4e6-9b73b5e61fec"
   },
   "outputs": [],
   "source": [
    "# change makefile to have GPU and OPENCV enabled\n",
    "%cd darknet\n",
    "!sed -i 's/OPENCV=0/OPENCV=1/' Makefile\n",
    "!sed -i 's/GPU=0/GPU=1/' Makefile\n",
    "!sed -i 's/CUDNN=0/CUDNN=1/' Makefile\n",
    "!sed -i 's/CUDNN_HALF=0/CUDNN_HALF=1/' Makefile\n",
    "!sed -i 's/LIBSO=0/LIBSO=1/' Makefile"
   ]
  },
  {
   "cell_type": "code",
   "execution_count": null,
   "metadata": {
    "colab": {
     "base_uri": "https://localhost:8080/"
    },
    "executionInfo": {
     "elapsed": 2672,
     "status": "ok",
     "timestamp": 1612502216686,
     "user": {
      "displayName": "이지아",
      "photoUrl": "https://lh3.googleusercontent.com/a-/AOh14GhApjPjZPyps3qffdLNd42EdqXMJdqTCBSOmmF5=s64",
      "userId": "10796608722670429081"
     },
     "user_tz": -540
    },
    "id": "-dBxAkuqCu7A",
    "outputId": "53c933b7-ee08-4ab1-e88f-f4b79e5147df"
   },
   "outputs": [],
   "source": [
    "# verify CUDA\n",
    "!/usr/local/cuda/bin/nvcc --version"
   ]
  },
  {
   "cell_type": "code",
   "execution_count": null,
   "metadata": {
    "colab": {
     "base_uri": "https://localhost:8080/"
    },
    "executionInfo": {
     "elapsed": 77919,
     "status": "ok",
     "timestamp": 1612502293432,
     "user": {
      "displayName": "이지아",
      "photoUrl": "https://lh3.googleusercontent.com/a-/AOh14GhApjPjZPyps3qffdLNd42EdqXMJdqTCBSOmmF5=s64",
      "userId": "10796608722670429081"
     },
     "user_tz": -540
    },
    "id": "i384Z3mXCu9E",
    "outputId": "98dc0dd9-df5d-4e34-d951-706423736ba8"
   },
   "outputs": [],
   "source": [
    "# make darknet (builds darknet so that you can then use the darknet executable file to run or train object detectors)\n",
    "!make"
   ]
  },
  {
   "cell_type": "code",
   "execution_count": null,
   "metadata": {
    "colab": {
     "base_uri": "https://localhost:8080/"
    },
    "id": "UpwlV17MCu_S",
    "outputId": "870c1d1d-8489-449c-fbd6-5099d3058720"
   },
   "outputs": [],
   "source": [
    "! export DISPLAY=0:0\n",
    "! ./darknet detector train data/custom.data cfg/yolov4.cfg /content/gdrive/MyDrive/yolov4/backup/yolov4_last.weights  -dont_show -map"
   ]
  }
 ],
 "metadata": {
  "accelerator": "GPU",
  "colab": {
   "authorship_tag": "ABX9TyMO/uy8PnsHrfYhEVX3f5lI",
   "collapsed_sections": [],
   "name": "yolo v4 test.ipynb",
   "provenance": []
  },
  "kernelspec": {
   "display_name": "Python 3",
   "language": "python",
   "name": "python3"
  },
  "language_info": {
   "codemirror_mode": {
    "name": "ipython",
    "version": 3
   },
   "file_extension": ".py",
   "mimetype": "text/x-python",
   "name": "python",
   "nbconvert_exporter": "python",
   "pygments_lexer": "ipython3",
   "version": "3.7.3"
  }
 },
 "nbformat": 4,
 "nbformat_minor": 1
}
