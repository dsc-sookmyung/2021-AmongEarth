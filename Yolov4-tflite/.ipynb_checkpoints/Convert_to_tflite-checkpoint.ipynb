{
 "cells": [
  {
   "cell_type": "code",
   "execution_count": null,
   "metadata": {
    "colab": {
     "base_uri": "https://localhost:8080/"
    },
    "executionInfo": {
     "elapsed": 600,
     "status": "ok",
     "timestamp": 1612513059531,
     "user": {
      "displayName": "이도연",
      "photoUrl": "",
      "userId": "01121628625520708341"
     },
     "user_tz": -540
    },
    "id": "ac6nbEscnFR9",
    "outputId": "b2fbf88e-ea7a-4b7a-f881-f578ab2563ca"
   },
   "outputs": [],
   "source": [
    "from google.colab import drive\n",
    "drive.mount('/content/gdrive')"
   ]
  },
  {
   "cell_type": "code",
   "execution_count": null,
   "metadata": {
    "colab": {
     "base_uri": "https://localhost:8080/"
    },
    "executionInfo": {
     "elapsed": 1191,
     "status": "ok",
     "timestamp": 1612510228111,
     "user": {
      "displayName": "이도연",
      "photoUrl": "",
      "userId": "01121628625520708341"
     },
     "user_tz": -540
    },
    "id": "bEOPTtAOnaEI",
    "outputId": "f894379b-51af-4194-a7aa-c379ee90810c"
   },
   "outputs": [],
   "source": [
    "!git clone https://github.com/hunglc007/tensorflow-yolov4-tflite.git"
   ]
  },
  {
   "cell_type": "code",
   "execution_count": null,
   "metadata": {
    "colab": {
     "base_uri": "https://localhost:8080/"
    },
    "executionInfo": {
     "elapsed": 588,
     "status": "ok",
     "timestamp": 1612513060917,
     "user": {
      "displayName": "이도연",
      "photoUrl": "",
      "userId": "01121628625520708341"
     },
     "user_tz": -540
    },
    "id": "W0JO5W7dniRL",
    "outputId": "bb61098e-e417-4cc2-905c-1ee83cb4b69c"
   },
   "outputs": [],
   "source": [
    "cd /content/gdrive/MyDrive/YOLO/tf-yolov4-tflite/"
   ]
  },
  {
   "cell_type": "code",
   "execution_count": null,
   "metadata": {
    "colab": {
     "base_uri": "https://localhost:8080/",
     "height": 1000
    },
    "executionInfo": {
     "elapsed": 70267,
     "status": "ok",
     "timestamp": 1612512993457,
     "user": {
      "displayName": "이도연",
      "photoUrl": "",
      "userId": "01121628625520708341"
     },
     "user_tz": -540
    },
    "id": "_NWZwCJupz6K",
    "outputId": "f99ea024-0ffc-466a-9c81-e53edfb443be"
   },
   "outputs": [],
   "source": [
    "!pip install tensorflow==2.3.0"
   ]
  },
  {
   "cell_type": "code",
   "execution_count": null,
   "metadata": {
    "colab": {
     "base_uri": "https://localhost:8080/"
    },
    "executionInfo": {
     "elapsed": 59369,
     "status": "ok",
     "timestamp": 1612513193296,
     "user": {
      "displayName": "이도연",
      "photoUrl": "",
      "userId": "01121628625520708341"
     },
     "user_tz": -540
    },
    "id": "i9cVURbbnk4B",
    "outputId": "b238d26c-b406-4dda-d997-ac9b1944f356"
   },
   "outputs": [],
   "source": [
    "# Save tf model for tflite converting\n",
    "!python save_model.py --weights /content/gdrive/MyDrive/YOLO/yolov4_last.weights --output /content/gdrive/MyDrive/YOLO/checkpoints/yolov4-custom --input_size 416 --model yolov4 --framework tflite"
   ]
  },
  {
   "cell_type": "code",
   "execution_count": null,
   "metadata": {
    "colab": {
     "base_uri": "https://localhost:8080/"
    },
    "executionInfo": {
     "elapsed": 35468,
     "status": "ok",
     "timestamp": 1612513338735,
     "user": {
      "displayName": "이도연",
      "photoUrl": "",
      "userId": "01121628625520708341"
     },
     "user_tz": -540
    },
    "id": "JUy6NJ_J_fru",
    "outputId": "26afb71e-2933-4c98-936f-5f5e22d01d1f"
   },
   "outputs": [],
   "source": [
    "# yolov4 tflite\n",
    "!python convert_tflite.py --weights /content/gdrive/MyDrive/YOLO/checkpoints/yolov4-custom --output /content/gdrive/MyDrive/YOLO/checkpoints/yolov4-custom.tflite"
   ]
  }
 ],
 "metadata": {
  "accelerator": "GPU",
  "colab": {
   "authorship_tag": "ABX9TyPFjzQDOVYmXYkmDgHvBtbC",
   "collapsed_sections": [],
   "name": "Convert to tflite.ipynb",
   "provenance": []
  },
  "kernelspec": {
   "display_name": "Python 3",
   "language": "python",
   "name": "python3"
  },
  "language_info": {
   "codemirror_mode": {
    "name": "ipython",
    "version": 3
   },
   "file_extension": ".py",
   "mimetype": "text/x-python",
   "name": "python",
   "nbconvert_exporter": "python",
   "pygments_lexer": "ipython3",
   "version": "3.7.3"
  }
 },
 "nbformat": 4,
 "nbformat_minor": 1
}
